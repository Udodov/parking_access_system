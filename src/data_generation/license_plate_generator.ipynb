{
 "cells": [
  {
   "cell_type": "code",
   "execution_count": 1,
   "metadata": {},
   "outputs": [],
   "source": [
    "import random\n",
    "from typing import List, Tuple\n",
    "from enum import Enum\n",
    "from dataclasses import dataclass"
   ]
  },
  {
   "cell_type": "code",
   "execution_count": 2,
   "metadata": {},
   "outputs": [],
   "source": [
    "class VehicleType(Enum):\n",
    "    \"\"\"Перечисление типов транспортных средств.\"\"\"\n",
    "    PASSENGER = \"Легковой автомобиль\"\n",
    "    TRUCK = \"Грузовой автомобиль\"\n",
    "    MOTORCYCLE = \"Мотоцикл\"\n",
    "    TRAILER = \"Прицеп\"\n",
    "    DIPLOMATIC = \"Дипломатический транспорт\"\n",
    "    POLICE = \"Полицейский транспорт\"\n",
    "    MILITARY = \"Военный транспорт\""
   ]
  },
  {
   "cell_type": "code",
   "execution_count": 3,
   "metadata": {},
   "outputs": [],
   "source": [
    "@dataclass\n",
    "class LicensePlate:\n",
    "    \"\"\"Класс для представления номерного знака.\"\"\"\n",
    "    number: str  # Номер\n",
    "    region: str  # Код региона\n",
    "    vehicle_type: VehicleType  # Тип транспортного средства"
   ]
  },
  {
   "cell_type": "code",
   "execution_count": 4,
   "metadata": {},
   "outputs": [],
   "source": [
    "class LicensePlateGenerator:\n",
    "    \"\"\"Класс для генерации номерных знаков.\"\"\"\n",
    "\n",
    "    # Допустимые буквы для номерных знаков\n",
    "    ALLOWED_LETTERS: str = \"АВЕКМНОРСТУХ\"\n",
    "    # Список кодов регионов (от 01 до 99 и от 102 до 199)\n",
    "    REGIONS: List[str] = [f\"{i:02d}\" for i in range(1, 100)] + [f\"{i:03d}\" for i in range(102, 200)]\n",
    "\n",
    "    @staticmethod\n",
    "    def generate_passenger_plate() -> Tuple[str, str]:\n",
    "        \"\"\"Генерирует номер для легкового автомобиля.\"\"\"\n",
    "        # Формат: X000XX 00 или X000XX 000\n",
    "        letters = ''.join(random.choices(LicensePlateGenerator.ALLOWED_LETTERS, k=3))\n",
    "        numbers = f\"{random.randint(0, 999):03d}\"\n",
    "        region = random.choice(LicensePlateGenerator.REGIONS)\n",
    "        return f\"{letters[0]}{numbers}{letters[1:]}\", region\n",
    "\n",
    "    @classmethod\n",
    "    def generate_plate(cls, vehicle_type: VehicleType) -> LicensePlate:\n",
    "        \"\"\"Генерирует номерной знак для указанного типа транспортного средства.\"\"\"\n",
    "        if vehicle_type == VehicleType.PASSENGER:\n",
    "            number, region = cls.generate_passenger_plate()\n",
    "        else:\n",
    "            raise ValueError(f\"Неподдерживаемый тип транспортного средства: {vehicle_type}\")\n",
    "        \n",
    "        return LicensePlate(number, region, vehicle_type)"
   ]
  },
  {
   "cell_type": "code",
   "execution_count": 5,
   "metadata": {},
   "outputs": [],
   "source": [
    "def generate_dataset(size: int) -> List[LicensePlate]:\n",
    "    \"\"\"Генерирует набор данных номерных знаков.\"\"\"\n",
    "    dataset = []\n",
    "    for _ in range(size):\n",
    "        # В данном случае генерируем только номера для легковых автомобилей\n",
    "        plate = LicensePlateGenerator.generate_plate(VehicleType.PASSENGER)\n",
    "        dataset.append(plate)\n",
    "    return dataset"
   ]
  },
  {
   "cell_type": "code",
   "execution_count": 6,
   "metadata": {},
   "outputs": [
    {
     "name": "stdout",
     "output_type": "stream",
     "text": [
      "Номер: К705ОЕ, Регион: 105, Тип: Легковой автомобиль\n",
      "Номер: Т241ЕУ, Регион: 39, Тип: Легковой автомобиль\n",
      "Номер: С996ХО, Регион: 01, Тип: Легковой автомобиль\n",
      "Номер: Т075СУ, Регион: 149, Тип: Легковой автомобиль\n",
      "Номер: Н586ВТ, Регион: 83, Тип: Легковой автомобиль\n",
      "Номер: В237УС, Регион: 120, Тип: Легковой автомобиль\n",
      "Номер: Р523ВВ, Регион: 130, Тип: Легковой автомобиль\n",
      "Номер: Т188ОН, Регион: 59, Тип: Легковой автомобиль\n",
      "Номер: Х958АК, Регион: 03, Тип: Легковой автомобиль\n",
      "Номер: О195РУ, Регион: 108, Тип: Легковой автомобиль\n"
     ]
    }
   ],
   "source": [
    "# Пример использования\n",
    "if __name__ == \"__main__\":\n",
    "    dataset_size = 10\n",
    "    dataset = generate_dataset(dataset_size)\n",
    "    \n",
    "    for plate in dataset:\n",
    "        print(f\"Номер: {plate.number}, Регион: {plate.region}, Тип: {plate.vehicle_type.value}\")"
   ]
  },
  {
   "cell_type": "code",
   "execution_count": 35,
   "metadata": {},
   "outputs": [],
   "source": [
    "class LicensePlateGenerator:\n",
    "    \"\"\"Класс для генерации номерных знаков.\"\"\"\n",
    "\n",
    "    # Допустимые буквы для номерных знаков\n",
    "    ALLOWED_LETTERS: str = \"АВЕКМНОРСТУХ\"\n",
    "    # Список кодов регионов (от 01 до 99 и от 102 до 199)\n",
    "    REGIONS: List[str] = [f\"{i:02d}\" for i in range(1, 100)] + [f\"{i:03d}\" for i in range(102, 200)]\n",
    "\n",
    "    @staticmethod\n",
    "    def generate_passenger_plate() -> Tuple[str, str]:\n",
    "        \"\"\"Генерирует номер для легкового автомобиля.\"\"\"\n",
    "        # Формат: X000XX 00 или X000XX 000\n",
    "        letters = ''.join(random.choices(LicensePlateGenerator.ALLOWED_LETTERS, k=3))\n",
    "        numbers = f\"{random.randint(0, 999):03d}\"\n",
    "        region = random.choice(LicensePlateGenerator.REGIONS)\n",
    "        return f\"{letters[0]}{numbers}{letters[1:]}\", region\n",
    "    \n",
    "    @staticmethod\n",
    "    def generate_truck_plate() -> Tuple[str, str]:\n",
    "        \"\"\"Генерирует номер для грузового автомобиля.\"\"\"\n",
    "        # Формат: X0000X 00 или X0000X 000\n",
    "        letters = ''.join(random.choices(LicensePlateGenerator.ALLOWED_LETTERS, k=2))\n",
    "        numbers = f\"{random.randint(0, 9999):04d}\"\n",
    "        region = random.choice(LicensePlateGenerator.REGIONS)\n",
    "        return f\"{letters[0]}{numbers}{letters[1]}\", region\n",
    "\n",
    "    @staticmethod\n",
    "    def generate_motorcycle_plate() -> Tuple[str, str]:\n",
    "        \"\"\"Генерирует номер для мотоцикла.\"\"\"\n",
    "        # Формат: 0000XX 00 или 0000XX 000\n",
    "        numbers = f\"{random.randint(0, 9999):04d}\"\n",
    "        letters = ''.join(random.choices(LicensePlateGenerator.ALLOWED_LETTERS, k=2))\n",
    "        region = random.choice(LicensePlateGenerator.REGIONS)\n",
    "        return f\"{numbers}{letters}\", region\n",
    "\n",
    "    @staticmethod\n",
    "    def generate_trailer_plate() -> Tuple[str, str]:\n",
    "        \"\"\"Генерирует номер для прицепа.\"\"\"\n",
    "        # Формат: XX0000 00 или XX0000 000\n",
    "        letters = ''.join(random.choices(LicensePlateGenerator.ALLOWED_LETTERS, k=2))\n",
    "        numbers = f\"{random.randint(0, 9999):04d}\"\n",
    "        region = random.choice(LicensePlateGenerator.REGIONS)\n",
    "        return f\"{letters}{numbers}\", region\n",
    "\n",
    "    @staticmethod\n",
    "    def generate_diplomatic_plate() -> Tuple[str, str]:\n",
    "        \"\"\"Генерирует номер для дипломатического транспорта.\"\"\"\n",
    "        # Формат: 000XX000\n",
    "        numbers = f\"{random.randint(0, 999):03d}\"\n",
    "        letters = ''.join(random.choices(LicensePlateGenerator.ALLOWED_LETTERS, k=2))\n",
    "        region = random.choice([\"004\", \"005\", \"006\", \"007\"])  # Специальные коды для дипломатических номеров\n",
    "        return f\"{numbers}{letters}{random.randint(1, 999):03d}\", region\n",
    "\n",
    "    @staticmethod\n",
    "    def generate_police_plate() -> Tuple[str, str]:\n",
    "        \"\"\"Генерирует номер для полицейского транспорта.\"\"\"\n",
    "        # Формат: XX0000 00 или XX0000 000\n",
    "        letters = ''.join(random.choices(LicensePlateGenerator.ALLOWED_LETTERS, k=2))\n",
    "        numbers = f\"{random.randint(0, 9999):04d}\"\n",
    "        region = random.choice(LicensePlateGenerator.REGIONS)\n",
    "        return f\"{letters}{numbers}\", region\n",
    "\n",
    "    @staticmethod\n",
    "    def generate_military_plate() -> Tuple[str, str]:\n",
    "        \"\"\"Генерирует номер для военного транспорта.\"\"\"\n",
    "        # Формат: 0000XX\n",
    "        numbers = f\"{random.randint(0, 9999):04d}\"\n",
    "        letters = ''.join(random.choices(LicensePlateGenerator.ALLOWED_LETTERS, k=2))\n",
    "\n",
    "        # Список кодов военных ведомств\n",
    "        military_codes = ['09', '10', '11', '12', '14', '15', '16', '17', '18', '19', '20', '21', '23', '25', '27', '29', \n",
    "                        '32', '34', '39', '43', '45', '50', '56', '65', '67', '76', '77', '81', '82', '83', '87', '90', \n",
    "                        '91', '92', '93', '94', '99']\n",
    "\n",
    "        # Выбираем случайный код военного ведомства\n",
    "        military_code = random.choice(military_codes)\n",
    "\n",
    "        return f\"{numbers}{letters}\", military_code\n",
    "    \n",
    "    @classmethod\n",
    "    def generate_plate(cls, vehicle_type: VehicleType) -> LicensePlate:\n",
    "        \"\"\"Генерирует номерной знак для указанного типа транспортного средства.\"\"\"\n",
    "        # Выбор соответствующего метода генерации в зависимости от типа транспортного средства\n",
    "        if vehicle_type == VehicleType.PASSENGER:\n",
    "            number, region = cls.generate_passenger_plate()\n",
    "        elif vehicle_type == VehicleType.TRUCK:\n",
    "            number, region = cls.generate_truck_plate()\n",
    "        elif vehicle_type == VehicleType.MOTORCYCLE:\n",
    "            number, region = cls.generate_motorcycle_plate()\n",
    "        elif vehicle_type == VehicleType.TRAILER:\n",
    "            number, region = cls.generate_trailer_plate()\n",
    "        elif vehicle_type == VehicleType.DIPLOMATIC:\n",
    "            number, region = cls.generate_diplomatic_plate()\n",
    "        elif vehicle_type == VehicleType.POLICE:\n",
    "            number, region = cls.generate_police_plate()\n",
    "        elif vehicle_type == VehicleType.MILITARY:\n",
    "            number, region = cls.generate_military_plate()\n",
    "        else:\n",
    "            raise ValueError(f\"Неподдерживаемый тип транспортного средства: {vehicle_type}\")\n",
    "        \n",
    "        return LicensePlate(number, region, vehicle_type)"
   ]
  },
  {
   "cell_type": "code",
   "execution_count": 36,
   "metadata": {},
   "outputs": [],
   "source": [
    "def generate_dataset(size: int) -> List[LicensePlate]:\n",
    "    \"\"\"Генерирует набор данных номерных знаков.\"\"\"\n",
    "    dataset = []\n",
    "    for _ in range(size):\n",
    "        # Случайный выбор типа транспортного средства\n",
    "        vehicle_type = random.choice(list(VehicleType))\n",
    "        # Генерация номерного знака для выбранного типа\n",
    "        plate = LicensePlateGenerator.generate_plate(vehicle_type)\n",
    "        dataset.append(plate)\n",
    "    return dataset"
   ]
  },
  {
   "cell_type": "code",
   "execution_count": 37,
   "metadata": {},
   "outputs": [
    {
     "name": "stdout",
     "output_type": "stream",
     "text": [
      "Номер: 0996СР, Регион: 60, Тип: Мотоцикл\n",
      "Номер: 0272МС, Регион: 90, Тип: Военный транспорт\n",
      "Номер: Х751СВ, Регион: 13, Тип: Легковой автомобиль\n",
      "Номер: 248ТК106, Регион: 007, Тип: Дипломатический транспорт\n",
      "Номер: ЕХ7662, Регион: 31, Тип: Прицеп\n",
      "Номер: 5696НА, Регион: 15, Тип: Мотоцикл\n",
      "Номер: ЕС4510, Регион: 141, Тип: Полицейский транспорт\n",
      "Номер: 629ХК224, Регион: 004, Тип: Дипломатический транспорт\n",
      "Номер: 7433ВХ, Регион: 123, Тип: Мотоцикл\n",
      "Номер: 246ТК508, Регион: 004, Тип: Дипломатический транспорт\n"
     ]
    }
   ],
   "source": [
    "# Пример использования\n",
    "if __name__ == \"__main__\":\n",
    "    dataset_size = 100\n",
    "    dataset = generate_dataset(dataset_size)\n",
    "    \n",
    "    for plate in dataset[:10]:  # Выводим первые 10 номеров для примера\n",
    "        print(f\"Номер: {plate.number}, Регион: {plate.region}, Тип: {plate.vehicle_type.value}\")"
   ]
  }
 ],
 "metadata": {
  "kernelspec": {
   "display_name": "Python 3",
   "language": "python",
   "name": "python3"
  },
  "language_info": {
   "codemirror_mode": {
    "name": "ipython",
    "version": 3
   },
   "file_extension": ".py",
   "mimetype": "text/x-python",
   "name": "python",
   "nbconvert_exporter": "python",
   "pygments_lexer": "ipython3",
   "version": "3.10.11"
  }
 },
 "nbformat": 4,
 "nbformat_minor": 2
}
